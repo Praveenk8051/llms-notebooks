{
 "cells": [
  {
   "cell_type": "markdown",
   "id": "6e06c8e8-a502-4837-a6f1-2a3a6573df7b",
   "metadata": {},
   "source": [
    "### LangChain based NewsArticle Summarizer"
   ]
  },
  {
   "cell_type": "code",
   "execution_count": 11,
   "id": "f0257c5e-3be7-4662-b728-c34b1a7cc9f5",
   "metadata": {},
   "outputs": [
    {
     "data": {
      "image/jpeg": "[encoded data removed]",
      "text/plain": [
       "<IPython.core.display.Image object>"
      ]
     },
     "execution_count": 11,
     "metadata": {
      "image/jpeg": {
       "height": 400,
       "width": 800
      }
     },
     "output_type": "execute_result"
    }
   ],
   "source": [
    "from IPython.display import Image\n",
    "Image(filename='news_summarizer.JPG',width=800, height=400)"
   ]
  },
  {
   "cell_type": "markdown",
   "id": "df082c4e-5736-4899-b926-c0df864ff7c0",
   "metadata": {},
   "source": [
    "Download/Scrape any newsarticle using the relevant imports"
   ]
  },
  {
   "cell_type": "code",
   "execution_count": 22,
   "id": "ece68dbb-c596-47ca-a71a-b1e09c0cc399",
   "metadata": {},
   "outputs": [
    {
     "name": "stdout",
     "output_type": "stream",
     "text": [
      "Title: Meta claims its new AI supercomputer will set records\n",
      "Text: Ryan Daws is a senior editor at TechForge Media with over a decade of experience in crafting compelling narratives and making complex topics accessible. His articles and interviews with industry leaders have earned him recognition as a key influencer by organisations like Onalytica. Under his leadership, publications have been praised by analyst firms such as Forrester for their excellence and performance. Connect with him on X (@gadget_ry), Bluesky (@gadgetry.bsky.social), and/or Mastodon (@gadgetry@techhub.social)\n",
      "\n",
      "Meta (formerly Facebook) has unveiled an AI supercomputer that it claims will be the world’s fastest.\n",
      "\n",
      "The supercomputer is called the AI Research SuperCluster (RSC) and is yet to be fully complete. However, Meta’s researchers have already begun using it for training large natural language processing (NLP) and computer vision models.\n",
      "\n",
      "RSC is set to be fully built in mid-2022. Meta says that it will be the fastest in the world once complete and the aim is for it to be capable of training models with trillions of parameters.\n",
      "\n",
      "“We hope RSC will help us build entirely new AI systems that can, for example, power real-time voice translations to large groups of people, each speaking a different language, so they can seamlessly collaborate on a research project or play an AR game together,” wrote Meta in a blog post.\n",
      "\n",
      "“Ultimately, the work done with RSC will pave the way toward building technologies for the next major computing platform — the metaverse, where AI-driven applications and products will play an important role.”\n",
      "\n",
      "For production, Meta expects RSC will be 20x faster than Meta’s current V100-based clusters. RSC is also estimated to be 9x faster at running the NVIDIA Collective Communication Library (NCCL) and 3x faster at training large-scale NLP workflows.\n",
      "\n",
      "A model with tens of billions of parameters can finish training in three weeks compared with nine weeks prior to RSC.\n",
      "\n",
      "Meta says that its previous AI research infrastructure only leveraged open source and other publicly-available datasets. RSC was designed with the security and privacy controls in mind to allow Meta to use real-world examples from its production systems in production training.\n",
      "\n",
      "What this means in practice is that Meta can use RSC to advance research for vital tasks such as identifying harmful content on its platforms—using real data from them.\n",
      "\n",
      "“We believe this is the first time performance, reliability, security, and privacy have been tackled at such a scale,” says Meta.\n",
      "\n",
      "(Image Credit: Meta)\n",
      "\n",
      "Want to learn more about AI and big data from industry leaders? Check out AI & Big Data Expo. The next events in the series will be held in Santa Clara on 11-12 May 2022, Amsterdam on 20-21 September 2022, and London on 1-2 December 2022.\n",
      "\n",
      "Explore other upcoming enterprise technology events and webinars powered by TechForge here.\n"
     ]
    }
   ],
   "source": [
    "import requests\n",
    "import json\n",
    "from newspaper import Article\n",
    "\n",
    "headers = {\n",
    "    'User-Agent': '''Mozilla/5.0 (Windows NT 10.0; Win64; x64) AppleWebKit/537.36 (KHTML, like Gecko) Chrome/89.0.4389.82 Safari/537.36'''\n",
    "}\n",
    "\n",
    "article_url = \"\"\"https://www.artificialintelligence-news.com/2022/01/25/meta-claims-new-ai-supercomputer-will-set-records/\"\"\"\n",
    "\n",
    "session = requests.Session()\n",
    "\n",
    "try:\n",
    "    response = session.get(article_url, headers=headers, timeout=10)\n",
    "    \n",
    "    if response.status_code == 200:\n",
    "        article = Article(article_url)\n",
    "        article.download()\n",
    "        article.parse()\n",
    "        \n",
    "        print(f\"Title: {article.title}\")\n",
    "        print(f\"Text: {article.text}\")\n",
    "        \n",
    "    else:\n",
    "        print(f\"Failed to fetch article at {article_url}\")\n",
    "except Exception as e:\n",
    "    print(f\"Error occurred while fetching article at {article_url}: {e}\")"
   ]
  },
  {
   "cell_type": "code",
   "execution_count": 25,
   "id": "938a9aa2-06df-4b1e-9b04-0ec33339742f",
   "metadata": {},
   "outputs": [],
   "source": [
    "from langchain.schema import (\n",
    "    HumanMessage\n",
    ")\n",
    "from langchain.chat_models import ChatOpenAI\n",
    "\n",
    "# we get the article data from the scraping part\n",
    "article_title = article.title\n",
    "article_text = article.text\n",
    "\n",
    "# prepare template for prompt\n",
    "template =\"\"\"You are a very good assistant that summarizes online articles.\n",
    "Here's the article you want to summarize.\n",
    "==================\n",
    "Title: {article_title}\n",
    "\n",
    "{article_text}\n",
    "==================\n",
    "Write a summary of the previous article.\n",
    "\"\"\"\n",
    "\n",
    "prompt = template.format(article_title=article.title, article_text=article.text)\n",
    "\n",
    "messages = [HumanMessage(content=prompt)]"
   ]
  },
  {
   "cell_type": "code",
   "execution_count": 24,
   "id": "a5570a57-0053-4172-b3ee-0e70772d1cef",
   "metadata": {},
   "outputs": [
    {
     "data": {
      "text/plain": [
       "[HumanMessage(content=\"You are a very good assistant that summarizes online articles.\\nHere's the article you want to summarize.\\n==================\\nTitle: Meta claims its new AI supercomputer will set records\\n\\nRyan Daws is a senior editor at TechForge Media with over a decade of experience in crafting compelling narratives and making complex topics accessible. His articles and interviews with industry leaders have earned him recognition as a key influencer by organisations like Onalytica. Under his leadership, publications have been praised by analyst firms such as Forrester for their excellence and performance. Connect with him on X (@gadget_ry), Bluesky (@gadgetry.bsky.social), and/or Mastodon (@gadgetry@techhub.social)\\n\\nMeta (formerly Facebook) has unveiled an AI supercomputer that it claims will be the world’s fastest.\\n\\nThe supercomputer is called the AI Research SuperCluster (RSC) and is yet to be fully complete. However, Meta’s researchers have already begun using it for training large natural language processing (NLP) and computer vision models.\\n\\nRSC is set to be fully built in mid-2022. Meta says that it will be the fastest in the world once complete and the aim is for it to be capable of training models with trillions of parameters.\\n\\n“We hope RSC will help us build entirely new AI systems that can, for example, power real-time voice translations to large groups of people, each speaking a different language, so they can seamlessly collaborate on a research project or play an AR game together,” wrote Meta in a blog post.\\n\\n“Ultimately, the work done with RSC will pave the way toward building technologies for the next major computing platform — the metaverse, where AI-driven applications and products will play an important role.”\\n\\nFor production, Meta expects RSC will be 20x faster than Meta’s current V100-based clusters. RSC is also estimated to be 9x faster at running the NVIDIA Collective Communication Library (NCCL) and 3x faster at training large-scale NLP workflows.\\n\\nA model with tens of billions of parameters can finish training in three weeks compared with nine weeks prior to RSC.\\n\\nMeta says that its previous AI research infrastructure only leveraged open source and other publicly-available datasets. RSC was designed with the security and privacy controls in mind to allow Meta to use real-world examples from its production systems in production training.\\n\\nWhat this means in practice is that Meta can use RSC to advance research for vital tasks such as identifying harmful content on its platforms—using real data from them.\\n\\n“We believe this is the first time performance, reliability, security, and privacy have been tackled at such a scale,” says Meta.\\n\\n(Image Credit: Meta)\\n\\nWant to learn more about AI and big data from industry leaders? Check out AI & Big Data Expo. The next events in the series will be held in Santa Clara on 11-12 May 2022, Amsterdam on 20-21 September 2022, and London on 1-2 December 2022.\\n\\nExplore other upcoming enterprise technology events and webinars powered by TechForge here.\\n==================\\nWrite a summary of the previous article.\\n\", additional_kwargs={}, example=False)]"
      ]
     },
     "execution_count": 24,
     "metadata": {},
     "output_type": "execute_result"
    }
   ],
   "source": [
    "messages"
   ]
  },
  {
   "cell_type": "code",
   "execution_count": 26,
   "id": "5462780a-60fa-4cd3-b042-6c1c4031cc48",
   "metadata": {},
   "outputs": [
    {
     "name": "stdout",
     "output_type": "stream",
     "text": [
      "Meta, formerly known as Facebook, has announced the development of the AI Research SuperCluster (RSC), which it claims will be the world's fastest AI supercomputer upon its completion in mid-2022. The RSC is designed to train large-scale natural language processing (NLP) and computer vision models, with capabilities to handle models with trillions of parameters. Meta envisions the RSC will enable advancements such as real-time voice translations for large, multilingual groups, and will significantly contribute to the development of the metaverse, where AI-driven applications will be crucial. The RSC is expected to be 20 times faster than Meta's current systems and will incorporate enhanced security and privacy controls to utilize real-world data from Meta's platforms for training purposes. This development aims to improve the performance, reliability, security, and privacy of AI research at a large scale.\n"
     ]
    }
   ],
   "source": [
    "# load the model\n",
    "chat = ChatOpenAI(model_name=\"gpt-4-turbo\", temperature=0)\n",
    "# generate summary\n",
    "summary = chat(messages)\n",
    "print(summary.content)"
   ]
  },
  {
   "cell_type": "markdown",
   "id": "b08ef486-926f-4274-a3dc-6c360fca2b12",
   "metadata": {},
   "source": [
    "__Changing the points into bullet-ins__"
   ]
  },
  {
   "cell_type": "code",
   "execution_count": 27,
   "id": "5c435dca-784a-4cf2-9d2f-569eec615b74",
   "metadata": {},
   "outputs": [],
   "source": [
    "from langchain.schema import (\n",
    "    HumanMessage\n",
    ")\n",
    "from langchain.chat_models import ChatOpenAI\n",
    "\n",
    "# we get the article data from the scraping part\n",
    "article_title = article.title\n",
    "article_text = article.text\n",
    "\n",
    "# prepare template for prompt\n",
    "template =\"\"\"You are an advanced AI assistant that summarizes online articles into bulleted lists.\n",
    "==================\n",
    "Title: {article_title}\n",
    "\n",
    "{article_text}\n",
    "==================\n",
    "Write a summary of the previous article.\n",
    "\"\"\"\n",
    "\n",
    "prompt = template.format(article_title=article.title, article_text=article.text)\n",
    "\n",
    "messages = [HumanMessage(content=prompt)]"
   ]
  },
  {
   "cell_type": "code",
   "execution_count": 28,
   "id": "4dab8c3c-871f-4a24-950d-18530b79e907",
   "metadata": {},
   "outputs": [
    {
     "name": "stdout",
     "output_type": "stream",
     "text": [
      "- Meta (formerly Facebook) has announced the development of the AI Research SuperCluster (RSC), which it claims will be the world's fastest AI supercomputer upon completion.\n",
      "- The RSC is designed to train large natural language processing (NLP) and computer vision models and is expected to be fully operational by mid-2022.\n",
      "- Meta aims for the RSC to handle training models with trillions of parameters, significantly enhancing capabilities such as real-time voice translations for diverse language groups.\n",
      "- The supercomputer is projected to be 20 times faster than Meta's current V100-based clusters and will improve efficiency in training large-scale NLP workflows.\n",
      "- RSC incorporates enhanced security and privacy controls, allowing Meta to utilize real-world data from its production systems for training purposes.\n",
      "- This development is part of Meta's broader vision to support the creation of technologies for the metaverse, where AI-driven applications will be crucial.\n",
      "- The article also mentions upcoming AI & Big Data Expo events, highlighting opportunities to learn more about AI and big data from industry leaders.\n"
     ]
    }
   ],
   "source": [
    "# load the model\n",
    "chat = ChatOpenAI(model_name=\"gpt-4-turbo\", temperature=0)\n",
    "# generate summary\n",
    "summary = chat(messages)\n",
    "print(summary.content)"
   ]
  },
  {
   "cell_type": "code",
   "execution_count": null,
   "id": "5cb32051-237f-4407-94fb-e6429bdca7db",
   "metadata": {},
   "outputs": [],
   "source": []
  },
  {
   "cell_type": "code",
   "execution_count": 1,
   "id": "2402d192-75fa-4d7b-a246-e3a499021c7b",
   "metadata": {},
   "outputs": [],
   "source": []
  },
  {
   "cell_type": "code",
   "execution_count": null,
   "id": "8166a5ae-a538-41b4-9d71-f99e1c52c42c",
   "metadata": {},
   "outputs": [],
   "source": []
  },
  {
   "cell_type": "code",
   "execution_count": null,
   "id": "386f10f1-5bc6-448a-985f-6a1f5ad58802",
   "metadata": {},
   "outputs": [],
   "source": []
  },
  {
   "cell_type": "code",
   "execution_count": null,
   "id": "37ecefff-a2e4-4e11-9ec6-f3ef79bfa064",
   "metadata": {},
   "outputs": [],
   "source": []
  },
  {
   "cell_type": "code",
   "execution_count": null,
   "id": "a0fc00b0-456c-4a57-a6db-a8cf23ee5bd9",
   "metadata": {},
   "outputs": [],
   "source": []
  },
  {
   "cell_type": "code",
   "execution_count": null,
   "id": "603ff976-486d-47f3-bab8-c6977ed9fe8f",
   "metadata": {},
   "outputs": [],
   "source": []
  }
 ],
 "metadata": {
  "kernelspec": {
   "display_name": "Python 3 (ipykernel)",
   "language": "python",
   "name": "python3"
  },
  "language_info": {
   "codemirror_mode": {
    "name": "ipython",
    "version": 3
   },
   "file_extension": ".py",
   "mimetype": "text/x-python",
   "name": "python",
   "nbconvert_exporter": "python",
   "pygments_lexer": "ipython3",
   "version": "3.8.10"
  }
 },
 "nbformat": 4,
 "nbformat_minor": 5
}
