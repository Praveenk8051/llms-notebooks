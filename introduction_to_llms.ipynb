{
 "cells": [
  {
   "cell_type": "markdown",
   "id": "3ce587d6-11a0-4229-9168-1b6aad51300f",
   "metadata": {},
   "source": [
    "## Translation"
   ]
  },
  {
   "cell_type": "markdown",
   "id": "130c789a-b6e7-4d7b-9680-7ae7ca14effa",
   "metadata": {},
   "source": [
    "##### Given any random input in any language provide me translation in English"
   ]
  },
  {
   "cell_type": "code",
   "execution_count": 3,
   "id": "b7dbbbe8-ffa8-42e7-8d3b-cb9c28c43d7e",
   "metadata": {},
   "outputs": [],
   "source": [
    "import os\n",
    "import openai\n",
    "\n",
    "openai.api_key=os.getenv(\"OPENAI_API_KEY2\")\n"
   ]
  },
  {
   "cell_type": "code",
   "execution_count": 4,
   "id": "bc53005e-15c5-49b9-b20e-d26b3cd6c162",
   "metadata": {},
   "outputs": [
    {
     "name": "stdout",
     "output_type": "stream",
     "text": [
      "\"Bonjour, comment ça va?\"\n"
     ]
    }
   ],
   "source": [
    "# English text to translate\n",
    "english_text = \"Hello, how are you?\"\n",
    "\n",
    "response = openai.ChatCompletion.create(\n",
    "  model=\"gpt-3.5-turbo\",\n",
    "  messages=[\n",
    "    {\"role\": \"system\", \"content\": \"You are a helpful assistant.\"},\n",
    "    {\"role\": \"user\", \"content\": f'''Translate the following English text to French: \"{english_text}\"'''}\n",
    "  ],\n",
    ")\n",
    "\n",
    "print(response['choices'][0]['message']['content'])"
   ]
  },
  {
   "cell_type": "markdown",
   "id": "067b1dd3-7b4b-41f1-9f3f-a948f3c7e51d",
   "metadata": {},
   "source": [
    "## Controlling Outputs from Few Shot Learning"
   ]
  },
  {
   "cell_type": "code",
   "execution_count": 5,
   "id": "a4111ce0-4a31-4004-99ed-6f1183bb8902",
   "metadata": {},
   "outputs": [
    {
     "name": "stdout",
     "output_type": "stream",
     "text": [
      "🧸🤠🚀🎮🎉🐍👢🤖👬🚚🚁✨\n"
     ]
    }
   ],
   "source": [
    "\n",
    "# Prompt for summarization\n",
    "prompt = \"\"\"\n",
    "Describe the following movie using emojis.\n",
    "\n",
    "{movie}: \"\"\"\n",
    "\n",
    "# Few-show examples\n",
    "examples = [\n",
    "    { \"input\": \"Titanic\", \"output\": \"🛳️🌊❤️🧊🎶🔥🚢💔👫💑\" },\n",
    "    { \"input\": \"The Matrix\", \"output\": \"🕶️💊💥👾🔮🌃👨🏻‍💻🔁🔓💪\" }\n",
    "]\n",
    "\n",
    "# Sending the examples and then asking the question for Toy Story\n",
    "movie = \"Toy Story\"\n",
    "response = openai.ChatCompletion.create(\n",
    "  model=\"gpt-3.5-turbo\",\n",
    "  messages=[\n",
    "        {\"role\": \"system\", \"content\": \"You are a helpful assistant.\"},\n",
    "        {\"role\": \"user\", \"content\": prompt.format(movie=examples[0][\"input\"])},\n",
    "        {\"role\": \"assistant\", \"content\": examples[0][\"output\"]},\n",
    "        {\"role\": \"user\", \"content\": prompt.format(movie=examples[1][\"input\"])},\n",
    "        {\"role\": \"assistant\", \"content\": examples[1][\"output\"]},\n",
    "        {\"role\": \"user\", \"content\": prompt.format(movie=movie)},\n",
    "  ]\n",
    ")\n",
    "\n",
    "print(response['choices'][0]['message']['content'])"
   ]
  },
  {
   "cell_type": "code",
   "execution_count": null,
   "id": "53bed775-5adc-4ac0-876c-423bde099a11",
   "metadata": {},
   "outputs": [],
   "source": []
  }
 ],
 "metadata": {
  "kernelspec": {
   "display_name": "Python 3 (ipykernel)",
   "language": "python",
   "name": "python3"
  },
  "language_info": {
   "codemirror_mode": {
    "name": "ipython",
    "version": 3
   },
   "file_extension": ".py",
   "mimetype": "text/x-python",
   "name": "python",
   "nbconvert_exporter": "python",
   "pygments_lexer": "ipython3",
   "version": "3.8.10"
  }
 },
 "nbformat": 4,
 "nbformat_minor": 5
}
