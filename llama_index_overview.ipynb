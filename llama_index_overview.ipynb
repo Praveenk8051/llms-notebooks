{
 "cells": [
  {
   "cell_type": "code",
   "execution_count": 1,
   "id": "380572a6-b02e-447c-bf92-fbd490af6f15",
   "metadata": {},
   "outputs": [],
   "source": [
    "import os\n",
    "\n",
    "# Enable Logging\n",
    "import logging\n",
    "import sys\n",
    "\n",
    "#Logging level to DEBUG for more verbose output,\n",
    "#Logging level=logging.INFO for less detailed information.\n",
    "logging.basicConfig(stream=sys.stdout, level=logging.DEBUG)\n",
    "logging.getLogger().addHandler(logging.StreamHandler(stream=sys.stdout))\n",
    "\n"
   ]
  },
  {
   "cell_type": "code",
   "execution_count": 20,
   "id": "2593f975-cdf0-448f-b44a-146b6209bfe4",
   "metadata": {},
   "outputs": [
    {
     "name": "stdout",
     "output_type": "stream",
     "text": [
      "INFO:numexpr.utils:Note: NumExpr detected 12 cores but \"NUMEXPR_MAX_THREADS\" not set, so enforcing safe limit of 8.\n",
      "Note: NumExpr detected 12 cores but \"NUMEXPR_MAX_THREADS\" not set, so enforcing safe limit of 8.\n",
      "INFO:numexpr.utils:NumExpr defaulting to 8 threads.\n",
      "NumExpr defaulting to 8 threads.\n",
      "DEBUG:urllib3.connectionpool:Starting new HTTPS connection (1): raw.githubusercontent.com:443\n",
      "Starting new HTTPS connection (1): raw.githubusercontent.com:443\n",
      "DEBUG:urllib3.connectionpool:https://raw.githubusercontent.com:443 \"GET /run-llama/llama-hub/main/llama_hub/library.json HTTP/11\" 200 4791\n",
      "https://raw.githubusercontent.com:443 \"GET /run-llama/llama-hub/main/llama_hub/library.json HTTP/11\" 200 4791\n",
      "DEBUG:urllib3.connectionpool:Starting new HTTPS connection (1): raw.githubusercontent.com:443\n",
      "Starting new HTTPS connection (1): raw.githubusercontent.com:443\n",
      "DEBUG:urllib3.connectionpool:https://raw.githubusercontent.com:443 \"GET /run-llama/llama-hub/main/llama_hub/wikipedia/base.py HTTP/11\" 200 401\n",
      "https://raw.githubusercontent.com:443 \"GET /run-llama/llama-hub/main/llama_hub/wikipedia/base.py HTTP/11\" 200 401\n",
      "DEBUG:urllib3.connectionpool:Starting new HTTPS connection (1): raw.githubusercontent.com:443\n",
      "Starting new HTTPS connection (1): raw.githubusercontent.com:443\n",
      "DEBUG:urllib3.connectionpool:https://raw.githubusercontent.com:443 \"GET /run-llama/llama-hub/main/llama_hub/wikipedia/requirements.txt HTTP/11\" 200 34\n",
      "https://raw.githubusercontent.com:443 \"GET /run-llama/llama-hub/main/llama_hub/wikipedia/requirements.txt HTTP/11\" 200 34\n",
      "DEBUG:urllib3.connectionpool:Starting new HTTPS connection (1): llamahub.ai:443\n",
      "Starting new HTTPS connection (1): llamahub.ai:443\n",
      "DEBUG:urllib3.connectionpool:https://llamahub.ai:443 \"POST /api/analytics/downloads HTTP/11\" 200 63\n",
      "https://llamahub.ai:443 \"POST /api/analytics/downloads HTTP/11\" 200 63\n",
      "DEBUG:urllib3.connectionpool:Starting new HTTP connection (1): en.wikipedia.org:80\n",
      "Starting new HTTP connection (1): en.wikipedia.org:80\n",
      "DEBUG:urllib3.connectionpool:http://en.wikipedia.org:80 \"GET /w/api.php?list=search&srprop=&srlimit=1&limit=1&srsearch=Natural+Language+Processing&srinfo=suggestion&format=json&action=query HTTP/11\" 301 0\n",
      "http://en.wikipedia.org:80 \"GET /w/api.php?list=search&srprop=&srlimit=1&limit=1&srsearch=Natural+Language+Processing&srinfo=suggestion&format=json&action=query HTTP/11\" 301 0\n",
      "DEBUG:urllib3.connectionpool:Starting new HTTPS connection (1): en.wikipedia.org:443\n",
      "Starting new HTTPS connection (1): en.wikipedia.org:443\n",
      "DEBUG:urllib3.connectionpool:https://en.wikipedia.org:443 \"GET /w/api.php?list=search&srprop=&srlimit=1&limit=1&srsearch=Natural+Language+Processing&srinfo=suggestion&format=json&action=query HTTP/11\" 200 174\n",
      "https://en.wikipedia.org:443 \"GET /w/api.php?list=search&srprop=&srlimit=1&limit=1&srsearch=Natural+Language+Processing&srinfo=suggestion&format=json&action=query HTTP/11\" 200 174\n",
      "DEBUG:urllib3.connectionpool:Starting new HTTP connection (1): en.wikipedia.org:80\n",
      "Starting new HTTP connection (1): en.wikipedia.org:80\n",
      "DEBUG:urllib3.connectionpool:http://en.wikipedia.org:80 \"GET /w/api.php?prop=info%7Cpageprops&inprop=url&ppprop=disambiguation&redirects=&titles=Natural+language+processing&format=json&action=query HTTP/11\" 301 0\n",
      "http://en.wikipedia.org:80 \"GET /w/api.php?prop=info%7Cpageprops&inprop=url&ppprop=disambiguation&redirects=&titles=Natural+language+processing&format=json&action=query HTTP/11\" 301 0\n",
      "DEBUG:urllib3.connectionpool:Starting new HTTPS connection (1): en.wikipedia.org:443\n",
      "Starting new HTTPS connection (1): en.wikipedia.org:443\n",
      "DEBUG:urllib3.connectionpool:https://en.wikipedia.org:443 \"GET /w/api.php?prop=info%7Cpageprops&inprop=url&ppprop=disambiguation&redirects=&titles=Natural+language+processing&format=json&action=query HTTP/11\" 200 280\n",
      "https://en.wikipedia.org:443 \"GET /w/api.php?prop=info%7Cpageprops&inprop=url&ppprop=disambiguation&redirects=&titles=Natural+language+processing&format=json&action=query HTTP/11\" 200 280\n",
      "DEBUG:urllib3.connectionpool:Starting new HTTP connection (1): en.wikipedia.org:80\n",
      "Starting new HTTP connection (1): en.wikipedia.org:80\n",
      "DEBUG:urllib3.connectionpool:http://en.wikipedia.org:80 \"GET /w/api.php?prop=extracts%7Crevisions&explaintext=&rvprop=ids&titles=Natural+language+processing&format=json&action=query HTTP/11\" 301 0\n",
      "http://en.wikipedia.org:80 \"GET /w/api.php?prop=extracts%7Crevisions&explaintext=&rvprop=ids&titles=Natural+language+processing&format=json&action=query HTTP/11\" 301 0\n",
      "DEBUG:urllib3.connectionpool:Starting new HTTPS connection (1): en.wikipedia.org:443\n",
      "Starting new HTTPS connection (1): en.wikipedia.org:443\n",
      "DEBUG:urllib3.connectionpool:https://en.wikipedia.org:443 \"GET /w/api.php?prop=extracts%7Crevisions&explaintext=&rvprop=ids&titles=Natural+language+processing&format=json&action=query HTTP/11\" 200 None\n",
      "https://en.wikipedia.org:443 \"GET /w/api.php?prop=extracts%7Crevisions&explaintext=&rvprop=ids&titles=Natural+language+processing&format=json&action=query HTTP/11\" 200 None\n",
      "DEBUG:urllib3.connectionpool:Starting new HTTP connection (1): en.wikipedia.org:80\n",
      "Starting new HTTP connection (1): en.wikipedia.org:80\n",
      "DEBUG:urllib3.connectionpool:http://en.wikipedia.org:80 \"GET /w/api.php?list=search&srprop=&srlimit=1&limit=1&srsearch=Artificial+Intelligence&srinfo=suggestion&format=json&action=query HTTP/11\" 301 0\n",
      "http://en.wikipedia.org:80 \"GET /w/api.php?list=search&srprop=&srlimit=1&limit=1&srsearch=Artificial+Intelligence&srinfo=suggestion&format=json&action=query HTTP/11\" 301 0\n",
      "DEBUG:urllib3.connectionpool:Starting new HTTPS connection (1): en.wikipedia.org:443\n",
      "Starting new HTTPS connection (1): en.wikipedia.org:443\n",
      "DEBUG:urllib3.connectionpool:https://en.wikipedia.org:443 \"GET /w/api.php?list=search&srprop=&srlimit=1&limit=1&srsearch=Artificial+Intelligence&srinfo=suggestion&format=json&action=query HTTP/11\" 200 172\n",
      "https://en.wikipedia.org:443 \"GET /w/api.php?list=search&srprop=&srlimit=1&limit=1&srsearch=Artificial+Intelligence&srinfo=suggestion&format=json&action=query HTTP/11\" 200 172\n",
      "DEBUG:urllib3.connectionpool:Starting new HTTP connection (1): en.wikipedia.org:80\n",
      "Starting new HTTP connection (1): en.wikipedia.org:80\n",
      "DEBUG:urllib3.connectionpool:http://en.wikipedia.org:80 \"GET /w/api.php?prop=info%7Cpageprops&inprop=url&ppprop=disambiguation&redirects=&titles=Artificial+intelligence&format=json&action=query HTTP/11\" 301 0\n",
      "http://en.wikipedia.org:80 \"GET /w/api.php?prop=info%7Cpageprops&inprop=url&ppprop=disambiguation&redirects=&titles=Artificial+intelligence&format=json&action=query HTTP/11\" 301 0\n",
      "DEBUG:urllib3.connectionpool:Starting new HTTPS connection (1): en.wikipedia.org:443\n",
      "Starting new HTTPS connection (1): en.wikipedia.org:443\n",
      "DEBUG:urllib3.connectionpool:https://en.wikipedia.org:443 \"GET /w/api.php?prop=info%7Cpageprops&inprop=url&ppprop=disambiguation&redirects=&titles=Artificial+intelligence&format=json&action=query HTTP/11\" 200 276\n",
      "https://en.wikipedia.org:443 \"GET /w/api.php?prop=info%7Cpageprops&inprop=url&ppprop=disambiguation&redirects=&titles=Artificial+intelligence&format=json&action=query HTTP/11\" 200 276\n",
      "DEBUG:urllib3.connectionpool:Starting new HTTP connection (1): en.wikipedia.org:80\n",
      "Starting new HTTP connection (1): en.wikipedia.org:80\n",
      "DEBUG:urllib3.connectionpool:http://en.wikipedia.org:80 \"GET /w/api.php?prop=extracts%7Crevisions&explaintext=&rvprop=ids&titles=Artificial+intelligence&format=json&action=query HTTP/11\" 301 0\n",
      "http://en.wikipedia.org:80 \"GET /w/api.php?prop=extracts%7Crevisions&explaintext=&rvprop=ids&titles=Artificial+intelligence&format=json&action=query HTTP/11\" 301 0\n",
      "DEBUG:urllib3.connectionpool:Starting new HTTPS connection (1): en.wikipedia.org:443\n",
      "Starting new HTTPS connection (1): en.wikipedia.org:443\n",
      "DEBUG:urllib3.connectionpool:https://en.wikipedia.org:443 \"GET /w/api.php?prop=extracts%7Crevisions&explaintext=&rvprop=ids&titles=Artificial+intelligence&format=json&action=query HTTP/11\" 200 None\n",
      "https://en.wikipedia.org:443 \"GET /w/api.php?prop=extracts%7Crevisions&explaintext=&rvprop=ids&titles=Artificial+intelligence&format=json&action=query HTTP/11\" 200 None\n",
      "2\n"
     ]
    }
   ],
   "source": [
    "from llama_index.readers import download_loader\n",
    "\n",
    "WikipediaReader = download_loader(\"WikipediaReader\")\n",
    "\n",
    "loader = WikipediaReader()\n",
    "\n",
    "documents = loader.load_data(pages=['Natural Language Processing',\n",
    "'Artificial Intelligence'])\n",
    "print(len(documents))\n",
    "\n"
   ]
  },
  {
   "cell_type": "code",
   "execution_count": 22,
   "id": "2d10fe86-f1c6-490b-a11e-3bea2f4215bb",
   "metadata": {},
   "outputs": [
    {
     "data": {
      "text/plain": [
       "Document(id_='855f5eb3-12cb-479b-b12d-071562787a47', embedding=None, metadata={}, excluded_embed_metadata_keys=[], excluded_llm_metadata_keys=[], relationships={}, text='Natural language processing (NLP) is a subfield of computer science and especially artificial intelligence. It is primarily concerned with providing computers with the ability to process data encoded in natural language and is thus closely related to information retrieval, knowledge representation and computational linguistics, a subfield of linguistics. Typically data is collected in text corpora, using either rule-based, statistical or neural-based approaches in machine learning and deep learning.\\nMajor tasks in natural language processing are speech recognition, text classification, natural-language understanding, and natural-language generation.\\n\\n\\n== History ==\\n\\nNatural language processing has its roots in the 1950s. Already in 1950, Alan Turing published an article titled \"Computing Machinery and Intelligence\" which proposed what is now called the Turing test as a criterion of intelligence, though at the time that was not articulated as a problem separate from artificial intelligence. The proposed test includes a task that involves the automated interpretation and generation of natural language.\\n\\n\\n=== Symbolic NLP (1950s – early 1990s) ===\\nThe premise of symbolic NLP is well-summarized by John Searle\\'s Chinese room experiment: Given a collection of rules (e.g., a Chinese phrasebook, with questions and matching answers), the computer emulates natural language understanding (or other NLP tasks) by applying those rules to the data it confronts.\\n\\n1950s: The Georgetown experiment in 1954 involved fully automatic translation of more than sixty Russian sentences into English. The authors claimed that within three or five years, machine translation would be a solved problem.  However, real progress was much slower, and after the ALPAC report in 1966, which found that ten years of research had failed to fulfill the expectations, funding for machine translation was dramatically reduced. Little further research in machine translation was conducted in America (though some research continued elsewhere, such as Japan and Europe) until the late 1980s when the first statistical machine translation systems were developed.\\n1960s: Some notably successful natural language processing systems developed in the 1960s were SHRDLU, a natural language system working in restricted \"blocks worlds\" with restricted vocabularies, and ELIZA, a simulation of a Rogerian psychotherapist, written by Joseph Weizenbaum between 1964 and 1966. Using almost no information about human thought or emotion, ELIZA sometimes provided a startlingly human-like interaction. When the \"patient\" exceeded the very small knowledge base, ELIZA might provide a generic response, for example, responding to \"My head hurts\" with \"Why do you say your head hurts?\". Ross Quillian\\'s successful work on natural language was demonstrated with a vocabulary of only twenty words, because that was all that would fit in a computer  memory at the time.\\n1970s: During the 1970s, many programmers began to write \"conceptual ontologies\", which structured real-world information into computer-understandable data.  Examples are MARGIE (Schank, 1975), SAM (Cullingford, 1978), PAM (Wilensky, 1978), TaleSpin (Meehan, 1976), QUALM (Lehnert, 1977), Politics (Carbonell, 1979), and Plot Units (Lehnert 1981).  During this time, the first chatterbots were written (e.g., PARRY).\\n1980s: The 1980s and early 1990s mark the heyday of symbolic methods in NLP. Focus areas of the time included research on rule-based parsing (e.g., the development of HPSG as a computational operationalization of generative grammar), morphology (e.g., two-level morphology), semantics (e.g., Lesk algorithm), reference (e.g., within Centering Theory) and other areas of natural language understanding (e.g., in the Rhetorical Structure Theory). Other lines of research were continued, e.g., the development of chatterbots with Racter and Jabberwacky. An important development (that eventually led to the statistical turn in the 1990s) was the rising importance of quantitative evaluation in this period.\\n\\n\\n=== Statistical NLP (1990s–2010s) ===\\nUp until the 1980s, most natural language processing systems were based on complex sets of hand-written rules.  Starting in the late 1980s, however, there was a revolution in natural language processing with the introduction of machine learning algorithms for language processing.  This was due to both the steady increase in computational power (see Moore\\'s law) and the gradual lessening of the dominance of Chomskyan theories of linguistics (e.g. transformational grammar), whose theoretical underpinnings discouraged the sort of corpus linguistics that underlies the machine-learning approach to language processing. \\n\\n1990s: Many of the notable early successes in statistical methods in NLP occurred in the field of machine translation, due especially to work at IBM Research, such as IBM alignment models.  These systems were able to take advantage of existing multilingual textual corpora that had been produced by the Parliament of Canada and the European Union as a result of laws calling for the translation of all governmental proceedings into all official languages of the corresponding systems of government.  However, most other systems depended on corpora specifically developed for the tasks implemented by these systems, which was (and often continues to be) a major limitation in the success of these systems. As a result, a great deal of research has gone into methods of more effectively learning from limited amounts of data.\\n2000s: With the growth of the web, increasing amounts of raw (unannotated) language data have become available since the mid-1990s. Research has thus increasingly focused on unsupervised and semi-supervised learning algorithms.  Such algorithms can learn from data that has not been hand-annotated with the desired answers or using a combination of annotated and non-annotated data.  Generally, this task is much more difficult than supervised learning, and typically produces less accurate results for a given amount of input data.  However, there is an enormous amount of non-annotated data available (including, among other things, the entire content of the World Wide Web), which can often make up for the inferior results if the algorithm used has a low enough time complexity to be practical.\\n\\n\\n=== Neural NLP (present) ===\\nIn 2003, word n-gram model, at the time the best statistical algorithm, was outperformed by a multi-layer perceptron (with a single hidden layer and context length of several words trained on up to 14 million of words with a CPU cluster in language modelling) by Yoshua Bengio with co-authors. \\nIn 2010, Tomáš Mikolov (then a PhD student at Brno University of Technology) with co-authors applied a simple recurrent neural network with a single hidden layer to language modelling, and in the following years he went on to develop Word2vec. In the 2010s, representation learning and deep neural network-style (featuring many hidden layers) machine learning methods became widespread in natural language processing. That popularity was due partly to a flurry of results showing that such techniques can achieve state-of-the-art results in many natural language tasks, e.g., in language modeling and parsing. This is increasingly important in medicine and healthcare, where NLP helps analyze notes and text in electronic health records that would otherwise be inaccessible for study when seeking to improve care or protect patient privacy.\\n\\n\\n== Approaches: Symbolic, statistical, neural networks ==\\nSymbolic approach, i.e., the hand-coding of a set of rules for manipulating symbols, coupled with a dictionary lookup, was historically the first approach used both by AI in general and by NLP in particular: such as by writing grammars or devising heuristic rules for stemming.\\nMachine learning approaches, which include both statistical and neural networks, on the other hand, have many advantages over the symbolic approach: \\n\\nboth statistical and neural networks methods can focus more on the most common cases extracted from a corpus of texts, whereas the rule-based approach needs to provide rules for both rare cases and common ones equally.\\nlanguage models, produced by either statistical or neural networks methods, are more robust to both unfamiliar (e.g. containing words or structures that have not been seen before) and erroneous input (e.g. with misspelled words or words accidentally omitted) in comparison to the rule-based systems, which are also more costly to produce.\\nthe larger such a (probabilistic) language model is, the more accurate it becomes, in contrast to rule-based systems that can gain accuracy only by increasing the amount and complexity of the rules leading to intractability problems.\\nAlthough rule-based systems for manipulating symbols were still in use in 2020, they have become mostly obsolete with the advance of LLMs in 2023. \\nBefore that they were commonly used:\\n\\nwhen the amount of training data is insufficient to successfully apply machine learning methods, e.g., for the machine translation of low-resource languages such as provided by the Apertium system,\\nfor preprocessing in NLP pipelines, e.g., tokenization, or\\nfor postprocessing and transforming the output of NLP pipelines, e.g., for knowledge extraction from syntactic parses.\\n\\n\\n=== Statistical approach ===\\nIn the late 1980s and mid-1990s, the statistical approach ended a period of AI winter, which was caused by the inefficiencies of the rule-based approaches.\\nThe earliest decision trees, producing systems of hard if–then rules, were still very similar to the old rule-based approaches.\\nOnly the introduction of hidden Markov models, applied to part-of-speech tagging, announced the end of the old rule-based approach.\\n\\n\\n=== Neural networks ===\\n\\nA major drawback of statistical methods is that they require elaborate feature engineering. Since 2015, the statistical approach has been replaced by the neural networks approach, using semantic networks and word embeddings to capture semantic properties of words.  \\nIntermediate tasks (e.g., part-of-speech tagging and dependency parsing) are not needed anymore. \\nNeural machine translation, based on then-newly invented sequence-to-sequence transformations, made obsolete the intermediate steps, such as word alignment, previously necessary for statistical machine translation.\\n\\n\\n== Common NLP tasks ==\\nThe following is a list of some of the most commonly researched tasks in natural language processing. Some of these tasks have direct real-world applications, while others more commonly serve as subtasks that are used to aid in solving larger tasks.\\nThough natural language processing tasks are closely intertwined, they can be subdivided into categories for convenience. A coarse division is given below.\\n\\n\\n=== Text and speech processing ===\\nOptical character recognition (OCR)\\nGiven an image representing printed text, determine the corresponding text.\\nSpeech recognition\\nGiven a sound clip of a person or people speaking, determine the textual representation of the speech.  This is the opposite of text to speech and is one of the extremely difficult problems colloquially termed \"AI-complete\" (see above).  In natural speech there are hardly any pauses between successive words, and thus speech segmentation is a necessary subtask of speech recognition (see below). In most spoken languages, the sounds representing successive letters blend into each other in a process termed coarticulation, so the conversion of the analog signal to discrete characters can be a very difficult process. Also, given that words in the same language are spoken by people with different accents, the speech recognition software must be able to recognize the wide variety of input as being identical to each other in terms of its textual equivalent.\\nSpeech segmentation\\nGiven a sound clip of a person or people speaking, separate it into words.  A subtask of speech recognition and typically grouped with it.\\nText-to-speech\\nGiven a text, transform those units and produce a spoken representation. Text-to-speech can be used to aid the visually impaired.\\nWord segmentation (Tokenization)\\nTokenization is a process used in text analysis that divides text into individual words or word fragments. This technique results in two key components: a word index and tokenized text. The word index is a list that maps unique words to specific numerical identifiers, and the tokenized text replaces each word with its corresponding numerical token. These numerical tokens are then used in various deep learning methods.\\nFor a language like English, this is fairly trivial, since words are usually separated by spaces. However, some written languages like Chinese, Japanese and Thai do not mark word boundaries in such a fashion, and in those languages text segmentation is a significant task requiring knowledge of the vocabulary and morphology of words in the language. Sometimes this process is also used in cases like bag of words (BOW) creation in data mining.\\n\\n\\n=== Morphological analysis ===\\nLemmatization\\nThe task of removing inflectional endings only and to return the base dictionary form of a word which is also known as a lemma. Lemmatization is another technique for reducing words to their normalized form. But in this case, the transformation actually uses a dictionary to map words to their actual form.\\nMorphological segmentation\\nSeparate words into individual morphemes and identify the class of the morphemes. The difficulty of this task depends greatly on the complexity of the morphology (i.e., the structure of words) of the language being considered. English has fairly simple morphology, especially inflectional morphology, and thus it is often possible to ignore this task entirely and simply model all possible forms of a word (e.g., \"open, opens, opened, opening\") as separate words. In languages such as Turkish or Meitei, a highly agglutinated Indian language, however, such an approach is not possible, as each dictionary entry has thousands of possible word forms.\\nPart-of-speech tagging\\nGiven a sentence, determine the part of speech (POS) for each word. Many words, especially common ones, can serve as multiple parts of speech. For example, \"book\" can be a noun (\"the book on the table\") or verb (\"to book a flight\"); \"set\" can be a noun, verb or adjective; and \"out\" can be any of at least five different parts of speech.\\nStemming\\nThe process of reducing inflected (or sometimes derived) words to a base form (e.g., \"close\" will be the root for \"closed\", \"closing\", \"close\", \"closer\" etc.). Stemming yields similar results as lemmatization, but does so on grounds of rules, not a dictionary.\\n\\n\\n=== Syntactic analysis ===\\n\\nGrammar induction\\nGenerate a formal grammar that describes a language\\'s syntax.\\nSentence breaking (also known as \"sentence boundary disambiguation\")\\nGiven a chunk of text, find the sentence boundaries. Sentence boundaries are often marked by periods or other punctuation marks, but these same characters can serve other purposes (e.g., marking abbreviations).\\nParsing\\nDetermine the parse tree (grammatical analysis) of a given sentence. The grammar for natural languages is ambiguous and typical sentences have multiple possible analyses: perhaps surprisingly, for a typical sentence there may be thousands of potential parses (most of which will seem completely nonsensical to a human). There are two primary types of parsing: dependency parsing and constituency parsing. Dependency parsing focuses on the relationships between words in a sentence (marking things like primary objects and predicates), whereas constituency parsing focuses on building out the parse tree using a probabilistic context-free grammar (PCFG) (see also stochastic grammar).\\n\\n\\n=== Lexical semantics (of individual words in context) ===\\nLexical semantics\\nWhat is the computational meaning of individual words in context?\\nDistributional semantics\\nHow can we learn semantic representations from data?\\nNamed entity recognition (NER)\\nGiven a stream of text, determine which items in the text map to proper names, such as people or places, and what the type of each such name is (e.g. person, location, organization). Although capitalization can aid in recognizing named entities in languages such as English, this information cannot aid in determining the type of named entity, and in any case, is often inaccurate or insufficient.  For example, the first letter of a sentence is also capitalized, and named entities often span several words, only some of which are capitalized.  Furthermore, many other languages in non-Western scripts (e.g. Chinese or Arabic) do not have any capitalization at all, and even languages with capitalization may not consistently use it to distinguish names. For example, German capitalizes all nouns, regardless of whether they are names, and French and Spanish do not capitalize names that serve as adjectives. Another name for this task is token classification.\\nSentiment analysis (see also Multimodal sentiment analysis)\\nSentiment analysis is a computational method used to identify and classify the emotional intent behind text. This technique involves analyzing text to determine whether the expressed sentiment is positive, negative, or neutral. Models for sentiment classification typically utilize inputs such as word n-grams, Term Frequency-Inverse Document Frequency (TF-IDF) features, hand-generated features, or employ deep learning models designed to recognize both long-term and short-term dependencies in text sequences. The applications of sentiment analysis are diverse, extending to tasks such as categorizing customer reviews on various online platforms.\\nTerminology extraction\\nThe goal of terminology extraction is to automatically extract relevant terms from a given corpus.\\nWord-sense disambiguation (WSD)\\nMany words have more than one meaning; we have to select the meaning which makes the most sense in context.  For this problem, we are typically given a list of words and associated word senses, e.g. from a dictionary or an online resource such as WordNet.\\nEntity linking\\nMany words—typically proper names—refer to named entities; here we have to select the entity (a famous individual, a location, a company, etc.) which is referred to in context.\\n\\n\\n=== Relational semantics (semantics of individual sentences) ===\\nRelationship extraction\\nGiven a chunk of text, identify the relationships among named entities (e.g. who is married to whom).\\nSemantic parsing\\nGiven a piece of text (typically a sentence), produce a formal representation of its semantics, either as a graph (e.g., in AMR parsing) or in accordance with a logical formalism (e.g., in DRT parsing). This challenge typically includes aspects of several more elementary NLP tasks from semantics (e.g., semantic role labelling, word-sense disambiguation) and can be extended to include full-fledged discourse analysis (e.g., discourse analysis, coreference; see Natural language understanding below).\\nSemantic role labelling (see also implicit semantic role labelling below)\\nGiven a single sentence, identify and disambiguate semantic predicates (e.g., verbal frames), then identify and classify the frame elements (semantic roles).\\n\\n\\n=== Discourse (semantics beyond individual sentences) ===\\nCoreference resolution\\nGiven a sentence or larger chunk of text, determine which words (\"mentions\") refer to the same objects (\"entities\"). Anaphora resolution is a specific example of this task, and is specifically concerned with matching up pronouns with the nouns or names to which they refer. The more general task of coreference resolution also includes identifying so-called \"bridging relationships\" involving referring expressions. For example, in a sentence such as \"He entered John\\'s house through the front door\", \"the front door\" is a referring expression and the bridging relationship to be identified is the fact that the door being referred to is the front door of John\\'s house (rather than of some other structure that might also be referred to).\\nDiscourse analysis\\nThis rubric includes several related tasks.  One task is discourse parsing, i.e., identifying the discourse structure of a connected text, i.e. the nature of the discourse relationships between sentences (e.g. elaboration, explanation, contrast).  Another possible task is recognizing and classifying the speech acts in a chunk of text (e.g. yes–no question, content question, statement, assertion, etc.).\\nImplicit semantic role labelling\\nGiven a single sentence, identify and disambiguate semantic predicates (e.g., verbal frames) and their explicit semantic roles in the current sentence (see Semantic role labelling above). Then, identify semantic roles that are not explicitly realized in the current sentence, classify them into arguments that are explicitly realized elsewhere in the text and those that are not specified, and resolve the former against the local text. A closely related task is zero anaphora resolution, i.e., the extension of coreference resolution to pro-drop languages.\\nRecognizing textual entailment\\nGiven two text fragments, determine if one being true entails the other, entails the other\\'s negation, or allows the other to be either true or false.\\nTopic segmentation and recognition\\nGiven a chunk of text, separate it into segments each of which is devoted to a topic, and identify the topic of the segment.\\nArgument mining\\nThe goal of argument mining is the automatic extraction and identification of argumentative structures from natural language text with the aid of computer programs. Such argumentative structures include the premise, conclusions, the argument scheme and the relationship between the main and subsidiary argument, or the main and counter-argument within discourse.\\n\\n\\n=== Higher-level NLP applications ===\\nAutomatic summarization (text summarization)\\nProduce a readable summary of a chunk of text.  Often used to provide summaries of the text of a known type, such as research papers, articles in the financial section of a newspaper.\\nGrammatical error correction\\nGrammatical error detection and correction involves a great band-width of problems on all levels of linguistic analysis (phonology/orthography, morphology, syntax, semantics, pragmatics). Grammatical error correction is impactful since it affects hundreds of millions of people that use or acquire English as a second language. It has thus been subject to a number of shared tasks since 2011. As far as orthography, morphology, syntax and certain aspects of semantics are concerned, and due to the development of powerful neural language models such as GPT-2, this can now (2019) be considered a largely solved problem and is being marketed in various commercial applications.\\nLogic translation\\nTranslate a text from a natural language into formal logic.\\nMachine translation (MT)\\nAutomatically translate text from one human language to another.  This is one of the most difficult problems, and is a member of a class of problems colloquially termed \"AI-complete\", i.e. requiring all of the different types of knowledge that humans possess (grammar, semantics, facts about the real world, etc.) to solve properly.\\nNatural-language understanding (NLU)\\nConvert chunks of text into more formal representations such as first-order logic structures that are easier for computer programs to manipulate. Natural language understanding involves the identification of the intended semantic from the multiple possible semantics which can be derived from a natural language expression which usually takes the form of organized notations of natural language concepts. Introduction and creation of language metamodel and ontology are efficient however empirical solutions. An explicit formalization of natural language semantics without confusions with implicit assumptions such as closed-world assumption (CWA) vs. open-world assumption, or subjective Yes/No vs. objective True/False is expected for the construction of a basis of semantics formalization.\\nNatural-language generation (NLG):\\nConvert information from computer databases or semantic intents into readable human language.\\nBook generation\\nNot an NLP task proper but an extension of natural language generation and other NLP tasks is the creation of full-fledged books. The first machine-generated book was created by a rule-based system in 1984 (Racter, The policeman\\'s beard is half-constructed). The first published work by a neural network was published in 2018, 1 the Road, marketed as a novel, contains sixty million words. Both these systems are basically elaborate but non-sensical (semantics-free) language models. The first machine-generated science book was published in 2019 (Beta Writer, Lithium-Ion Batteries, Springer, Cham). Unlike Racter and 1 the Road, this is grounded on factual knowledge and based on text summarization.\\nDocument AI\\nA Document AI platform sits on top of the NLP technology enabling users with no prior experience of artificial intelligence, machine learning or NLP to quickly train a computer to extract the specific data they need from different document types. NLP-powered Document AI enables non-technical teams to quickly access information hidden in documents, for example, lawyers, business analysts and accountants.\\nDialogue management\\nComputer systems intended to converse with a human.\\nQuestion answering\\nGiven a human-language question, determine its answer. Typical questions have a specific right answer (such as \"What is the capital of Canada?\"), but sometimes open-ended questions are also considered (such as \"What is the meaning of life?\").\\nText-to-image generation\\nGiven a description of an image, generate an image that matches the description.\\nText-to-scene generation\\nGiven a description of a scene, generate a 3D model of the scene.\\nText-to-video\\nGiven a description of a video, generate a video that matches the description.\\n\\n\\n== General tendencies and (possible) future directions ==\\nBased on long-standing trends in the field, it is possible to extrapolate future directions of NLP. As of 2020, three trends among the topics of the long-standing series of CoNLL Shared Tasks can be observed:\\n\\nInterest on increasingly abstract, \"cognitive\" aspects of natural language (1999–2001: shallow parsing, 2002–03: named entity recognition, 2006–09/2017–18: dependency syntax, 2004–05/2008–09 semantic role labelling, 2011–12 coreference, 2015–16: discourse parsing, 2019: semantic parsing).\\nIncreasing interest in multilinguality, and, potentially, multimodality (English since 1999; Spanish, Dutch since 2002; German since 2003; Bulgarian, Danish, Japanese, Portuguese, Slovenian, Swedish, Turkish since 2006; Basque, Catalan, Chinese, Greek, Hungarian, Italian, Turkish since 2007; Czech since 2009; Arabic since 2012; 2017: 40+ languages; 2018: 60+/100+ languages)\\nElimination of symbolic representations (rule-based over supervised towards weakly supervised methods, representation learning and end-to-end systems)\\n\\n\\n=== Cognition ===\\nMost higher-level NLP applications involve aspects that emulate intelligent behaviour and apparent comprehension of natural language. More broadly speaking, the technical operationalization of increasingly advanced aspects of cognitive behaviour represents one of the developmental trajectories of NLP (see trends among CoNLL shared tasks above).\\nCognition refers to \"the mental action or process of acquiring knowledge and understanding through thought, experience, and the senses.\" Cognitive science is the interdisciplinary, scientific study of the mind and its processes. Cognitive linguistics is an interdisciplinary branch of linguistics, combining knowledge and research from both psychology and linguistics. Especially during the age of symbolic NLP, the area of computational linguistics maintained strong ties with cognitive studies.\\nAs an example, George Lakoff offers a methodology to build natural language processing (NLP) algorithms through the perspective of cognitive science, along with the findings of cognitive linguistics, with two defining aspects:\\n\\nApply the theory of conceptual metaphor, explained by Lakoff as \"the understanding of one idea, in terms of another\" which provides an idea of the intent of the author. For example, consider the English word big. When used in a comparison (\"That is a big tree\"), the author\\'s intent is to imply that the tree is physically large relative to other trees or the authors experience.  When used metaphorically (\"Tomorrow is a big day\"), the author\\'s intent to imply importance.  The intent behind other usages, like in \"She is a big person\", will remain somewhat ambiguous to a person and a cognitive NLP algorithm alike without additional information.\\nAssign relative measures of meaning to a word, phrase, sentence or piece of text based on the information presented before and after the piece of text being analyzed, e.g., by means of a probabilistic context-free grammar (PCFG). The mathematical equation for such algorithms is presented in  US Patent 9269353:\\n\\n  \\n    \\n      \\n        \\n          R\\n          M\\n          M\\n          (\\n          t\\n          o\\n          k\\n          e\\n          \\n            n\\n            \\n              N\\n            \\n          \\n          )\\n        \\n        =\\n        \\n          P\\n          M\\n          M\\n          (\\n          t\\n          o\\n          k\\n          e\\n          \\n            n\\n            \\n              N\\n            \\n          \\n          )\\n        \\n        ×\\n        \\n          \\n            1\\n            \\n              2\\n              d\\n            \\n          \\n        \\n        \\n          (\\n          \\n            \\n              ∑\\n              \\n                i\\n                =\\n                −\\n                d\\n              \\n              \\n                d\\n              \\n            \\n            \\n              (\\n              (\\n              P\\n              M\\n              M\\n              (\\n              t\\n              o\\n              k\\n              e\\n              \\n                n\\n                \\n                  N\\n                \\n              \\n              )\\n            \\n            ×\\n            \\n              P\\n              F\\n              (\\n              t\\n              o\\n              k\\n              e\\n              \\n                n\\n                \\n                  N\\n                  −\\n                  i\\n                \\n              \\n              ,\\n              t\\n              o\\n              k\\n              e\\n              \\n                n\\n                \\n                  N\\n                \\n              \\n              ,\\n              t\\n              o\\n              k\\n              e\\n              \\n                n\\n                \\n                  N\\n                  +\\n                  i\\n                \\n              \\n              )\\n              \\n                )\\n                \\n                  i\\n                \\n              \\n            \\n          \\n          )\\n        \\n      \\n    \\n    {\\\\displaystyle {RMM(token_{N})}={PMM(token_{N})}\\\\times {\\\\frac {1}{2d}}\\\\left(\\\\sum _{i=-d}^{d}{((PMM(token_{N})}\\\\times {PF(token_{N-i},token_{N},token_{N+i}))_{i}}\\\\right)}\\n  \\n\\nWhere\\nRMM is the relative measure of meaning\\ntoken is any block of text, sentence, phrase or word\\nN is the number of tokens being analyzed\\nPMM is the probable measure of meaning based on a corpora\\nd is the non zero location of the token along the sequence of N tokens\\nPF is the probability function specific to a language\\nTies with cognitive linguistics are part of the historical heritage of NLP, but they have been less frequently addressed since the statistical turn during the 1990s. Nevertheless, approaches to develop cognitive models towards technically operationalizable frameworks have been pursued in the context of various frameworks, e.g., of cognitive grammar, functional grammar, construction grammar, computational psycholinguistics and cognitive neuroscience (e.g., ACT-R), however, with limited uptake in mainstream NLP (as measured by presence on major conferences of the ACL). More recently, ideas of cognitive NLP have been revived as an approach to achieve explainability, e.g., under the notion of \"cognitive AI\". Likewise, ideas of cognitive NLP are inherent to neural models multimodal NLP (although rarely made explicit) and developments in artificial intelligence, specifically tools and technologies using large language model approaches and new directions in artificial general intelligence based on the free energy principle by British neuroscientist and theoretician at University College London Karl J. Friston.\\n\\n\\n== See also ==\\n\\n\\n== References ==\\n\\n\\n== Further reading ==\\n\\n\\n== External links ==\\n Media related to Natural language processing at Wikimedia Commons', start_char_idx=None, end_char_idx=None, text_template='{metadata_str}\\n\\n{content}', metadata_template='{key}: {value}', metadata_seperator='\\n')"
      ]
     },
     "execution_count": 22,
     "metadata": {},
     "output_type": "execute_result"
    }
   ],
   "source": [
    "documents[0]"
   ]
  },
  {
   "cell_type": "code",
   "execution_count": null,
   "id": "0d536e87-c021-4abe-915f-6f0a85555c90",
   "metadata": {},
   "outputs": [],
   "source": [
    "from llama_index.node_parser import SimpleNodeParser\n",
    "\n",
    "# Assuming documents have already been loaded\n",
    "\n",
    "# Initialize the parser\n",
    "parser = SimpleNodeParser.from_defaults(chunk_size=512, chunk_overlap=20)\n",
    "\n",
    "# Parse documents into nodes\n",
    "nodes = parser.get_nodes_from_documents(documents)\n",
    "print(len(nodes))"
   ]
  },
  {
   "cell_type": "code",
   "execution_count": 24,
   "id": "f538858b-2a7a-4a73-8a09-5ef4a32bbac2",
   "metadata": {},
   "outputs": [
    {
     "name": "stdout",
     "output_type": "stream",
     "text": [
      "Name: llama-index\n",
      "Version: 0.9.48\n",
      "Summary: Interface between LLMs and your data\n",
      "Home-page: https://llamaindex.ai\n",
      "Author: Jerry Liu\n",
      "Author-email: jerry@llamaindex.ai\n",
      "License: MIT\n",
      "Location: c:\\users\\prave\\appdata\\local\\programs\\python\\python38\\lib\\site-packages\n",
      "Requires: aiohttp, dataclasses-json, deprecated, dirtyjson, fsspec, httpx, nest-asyncio, networkx, nltk, numpy, openai, pandas, requests, SQLAlchemy, tenacity, tiktoken, typing-extensions, typing-inspect\n",
      "Required-by: \n"
     ]
    }
   ],
   "source": [
    "!pip show llama-index"
   ]
  },
  {
   "cell_type": "code",
   "execution_count": 6,
   "id": "73606ff6-24dd-4645-830b-c6ffc89959aa",
   "metadata": {},
   "outputs": [
    {
     "name": "stdout",
     "output_type": "stream",
     "text": [
      "Python 3.8.10\n"
     ]
    }
   ],
   "source": [
    "!python -V"
   ]
  },
  {
   "cell_type": "code",
   "execution_count": null,
   "id": "be33c34f-ebb7-4419-97a6-f911e21f845c",
   "metadata": {},
   "outputs": [],
   "source": []
  },
  {
   "cell_type": "code",
   "execution_count": null,
   "id": "ef2dabdb-565c-483e-9845-6fa1c66e60e8",
   "metadata": {},
   "outputs": [],
   "source": []
  },
  {
   "cell_type": "code",
   "execution_count": null,
   "id": "7081307c-3a19-49c4-93d2-152bb5c8836a",
   "metadata": {},
   "outputs": [],
   "source": []
  },
  {
   "cell_type": "code",
   "execution_count": null,
   "id": "6058e3a5-eee9-4b7a-ae2e-325c6e3111d9",
   "metadata": {},
   "outputs": [],
   "source": []
  },
  {
   "cell_type": "code",
   "execution_count": null,
   "id": "ee8583e6-59fc-4720-8dce-35f67289fab2",
   "metadata": {},
   "outputs": [],
   "source": []
  },
  {
   "cell_type": "code",
   "execution_count": null,
   "id": "96d4dcf4-c122-4438-a258-c222c710ae86",
   "metadata": {},
   "outputs": [],
   "source": []
  },
  {
   "cell_type": "code",
   "execution_count": null,
   "id": "a9d9c9c0-7d76-4a10-b4ed-b6c370733e92",
   "metadata": {},
   "outputs": [],
   "source": []
  }
 ],
 "metadata": {
  "kernelspec": {
   "display_name": "Python 3 (ipykernel)",
   "language": "python",
   "name": "python3"
  },
  "language_info": {
   "codemirror_mode": {
    "name": "ipython",
    "version": 3
   },
   "file_extension": ".py",
   "mimetype": "text/x-python",
   "name": "python",
   "nbconvert_exporter": "python",
   "pygments_lexer": "ipython3",
   "version": "3.8.10"
  }
 },
 "nbformat": 4,
 "nbformat_minor": 5
}
