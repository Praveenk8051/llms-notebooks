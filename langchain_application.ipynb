{
 "cells": [
  {
   "cell_type": "markdown",
   "id": "87bd0a36-561d-45ca-97a1-b8341e47c757",
   "metadata": {},
   "source": [
    "### LangChain Application\n",
    "\"Hello World\" usage and other apis.\n",
    "Unlike general openai apis , one can notice different PromptTemplates here."
   ]
  },
  {
   "cell_type": "code",
   "execution_count": 5,
   "id": "95d925bb-92b2-4b34-a9ef-2bb6d5e81578",
   "metadata": {},
   "outputs": [
    {
     "name": "stderr",
     "output_type": "stream",
     "text": [
      "Retrying langchain.chat_models.openai.ChatOpenAI.completion_with_retry.<locals>._completion_with_retry in 1.0 seconds as it raised RateLimitError: You exceeded your current quota, please check your plan and billing details. For more information on this error, read the docs: https://platform.openai.com/docs/guides/error-codes/api-errors..\n"
     ]
    },
    {
     "name": "stdout",
     "output_type": "stream",
     "text": [
      "\"Inception\" is a 2010 science fiction action film written and directed by Christopher Nolan. The film stars Leonardo DiCaprio as a professional thief who steals information by entering the subconscious of his targets through their dreams. The plot follows his final job of planting an idea into the mind of a CEO by navigating through multiple layers of dreams.\n",
      "\n",
      "The movie received critical acclaim for its originality, visual effects, and complex narrative. It was also a commercial success, grossing over $800 million worldwide. \"Inception\" won four Academy Awards and was nominated for Best Picture.\n",
      "\n",
      "If you are interested in watching \"Inception,\" it is available for streaming on various platforms or you can rent or purchase it on digital platforms.\n"
     ]
    }
   ],
   "source": [
    "import os\n",
    "import openai\n",
    "\n",
    "openai.api_key=os.getenv(\"OPENAI_API_KEY2\")\n",
    "\n",
    "from langchain.chat_models import ChatOpenAI\n",
    "from langchain.prompts.chat import (\n",
    "    ChatPromptTemplate,\n",
    "    SystemMessagePromptTemplate,\n",
    "    HumanMessagePromptTemplate,\n",
    ")\n",
    "\n",
    "# Before executing the following code, make sure to have\n",
    "# your OpenAI key saved in the \"OPENAI_API_KEY\" environment variable.\n",
    "chat = ChatOpenAI(model_name=\"gpt-3.5-turbo\", temperature=0)\n",
    "\n",
    "template = \"You are an assistant that helps users find information about movies.\"\n",
    "system_message_prompt = SystemMessagePromptTemplate.from_template(template)\n",
    "human_template = \"Find information about the movie {movie_title}.\"\n",
    "human_message_prompt = HumanMessagePromptTemplate.from_template(human_template)\n",
    "\n",
    "chat_prompt = ChatPromptTemplate.from_messages([system_message_prompt,\n",
    "human_message_prompt])\n",
    "\n",
    "response = chat(chat_prompt.format_prompt(movie_title=\"Inception\").to_messages())\n",
    "\n",
    "print(response.content)"
   ]
  },
  {
   "cell_type": "markdown",
   "id": "ae6a1cdd-8387-4b02-8daa-8d2bd56d0f52",
   "metadata": {},
   "source": [
    "### Summarization Chain \n",
    "The code employs the standard summarization chain through the load_summarize_chain function"
   ]
  },
  {
   "cell_type": "code",
   "execution_count": 8,
   "id": "bd190d60-ba3e-4a33-85a4-7beb07439f78",
   "metadata": {},
   "outputs": [
    {
     "name": "stdout",
     "output_type": "stream",
     "text": [
      "\"The One Page Linux Manual provides a summary of useful Linux commands for starting and stopping the system, accessing and mounting file systems, finding files and text within files, using the X Window System, moving, copying, deleting, and viewing files, installing software, user administration, and little known tips and tricks. It also includes information on configuration files, file permissions, X shortcuts, and printing commands.\"\n"
     ]
    }
   ],
   "source": [
    "# Import necessary modules\n",
    "from langchain.chat_models import ChatOpenAI\n",
    "from langchain import PromptTemplate\n",
    "from langchain.chains.summarize import load_summarize_chain\n",
    "from langchain.document_loaders import PyPDFLoader\n",
    "\n",
    "# Initialize language model\n",
    "llm = ChatOpenAI(model_name=\"gpt-3.5-turbo\", temperature=0)\n",
    "\n",
    "# Load the summarization chain\n",
    "summarize_chain = load_summarize_chain(llm)\n",
    "\n",
    "# Load the document using PyPDFLoader\n",
    "document_loader = PyPDFLoader(file_path=\"file.pdf\")\n",
    "document = document_loader.load()\n",
    "\n",
    "# Summarize the document\n",
    "summary = summarize_chain(document)\n",
    "print(summary['output_text'])"
   ]
  },
  {
   "cell_type": "code",
   "execution_count": null,
   "id": "8203aef3-f998-49ff-b9ed-29dfedac44f9",
   "metadata": {},
   "outputs": [],
   "source": [
    "    "
   ]
  }
 ],
 "metadata": {
  "kernelspec": {
   "display_name": "Python 3 (ipykernel)",
   "language": "python",
   "name": "python3"
  },
  "language_info": {
   "codemirror_mode": {
    "name": "ipython",
    "version": 3
   },
   "file_extension": ".py",
   "mimetype": "text/x-python",
   "name": "python",
   "nbconvert_exporter": "python",
   "pygments_lexer": "ipython3",
   "version": "3.8.10"
  }
 },
 "nbformat": 4,
 "nbformat_minor": 5
}
